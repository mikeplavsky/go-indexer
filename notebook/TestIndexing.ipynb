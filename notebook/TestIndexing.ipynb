{
 "cells": [
  {
   "cell_type": "code",
   "execution_count": 70,
   "metadata": {
    "collapsed": true
   },
   "outputs": [
    {
     "name": "stdout",
     "output_type": "stream",
     "text": [
      "Requirement already satisfied (use --upgrade to upgrade): boto in /usr/local/lib/python3.4/dist-packages\n"
     ]
    },
    {
     "name": "stderr",
     "output_type": "stream",
     "text": [
      "You are using pip version 6.1.1, however version 7.0.3 is available.\n",
      "You should consider upgrading via the 'pip install --upgrade pip' command.\n"
     ]
    }
   ],
   "source": [
    "%%bash\n",
    "\n",
    "pip3 install boto"
   ]
  },
  {
   "cell_type": "code",
   "execution_count": 89,
   "metadata": {
    "collapsed": true
   },
   "outputs": [
    {
     "name": "stdout",
     "output_type": "stream",
     "text": [
      "\u001b[33mYou are using pip version 6.1.1, however version 7.0.3 is available.\r\n",
      "You should consider upgrading via the 'pip install --upgrade pip' command.\u001b[0m\r\n",
      "Requirement already satisfied (use --upgrade to upgrade): spur in /usr/local/lib/python3.4/dist-packages\r\n",
      "Requirement already satisfied (use --upgrade to upgrade): paramiko<2,>=1.13.1 in /usr/local/lib/python3.4/dist-packages (from spur)\r\n",
      "Requirement already satisfied (use --upgrade to upgrade): ecdsa>=0.11 in /usr/local/lib/python3.4/dist-packages (from paramiko<2,>=1.13.1->spur)\r\n",
      "Requirement already satisfied (use --upgrade to upgrade): pycrypto!=2.4,>=2.1 in /usr/local/lib/python3.4/dist-packages (from paramiko<2,>=1.13.1->spur)\r\n"
     ]
    }
   ],
   "source": [
    "!pip3 install spur"
   ]
  },
  {
   "cell_type": "code",
   "execution_count": 105,
   "metadata": {
    "collapsed": false
   },
   "outputs": [
    {
     "data": {
      "text/plain": [
       "[b'CONTAINER ID        IMAGE                             COMMAND                CREATED             STATUS              PORTS               NAMES',\n",
       " b'7913ca9ecf59        mikeplavsky/docker-nginx:latest   \"nginx -g \\'daemon of   2 hours ago         Up 2 hours                              nginx               ',\n",
       " b'604bc0ea5407        ipython/scipyserver:latest        \"/notebook.sh\"         2 hours ago         Up 2 hours                              ipython             ']"
      ]
     },
     "execution_count": 105,
     "metadata": {},
     "output_type": "execute_result"
    }
   ],
   "source": [
    "import spur \n",
    "\n",
    "s = spur.SshShell(\n",
    "    hostname=\"10.51.148.206\",\n",
    "    username=\"ec2-user\",\n",
    "    private_key_file=\"mp.key\",\n",
    "    missing_host_key=spur.ssh.MissingHostKey.accept\n",
    ");\n",
    "\n",
    "res = s.run(['docker','ps'])\n",
    "res.output.splitlines()"
   ]
  },
  {
   "cell_type": "markdown",
   "metadata": {},
   "source": [
    "GIVEN:\n",
    "\n",
    "Files uploaded to S3"
   ]
  },
  {
   "cell_type": "code",
   "execution_count": 71,
   "metadata": {
    "collapsed": false
   },
   "outputs": [
    {
     "name": "stdout",
     "output_type": "stream",
     "text": [
      "CPU times: user 12 ms, sys: 4 ms, total: 16 ms\n",
      "Wall time: 424 ms\n"
     ]
    }
   ],
   "source": [
    "%%time \n",
    "\n",
    "keys = [\n",
    "    \"CustomerA/MachineB/Agent%s/MAgE_20150331_023936.zip\" % i \n",
    "    for i in range(0,10)\n",
    "]\n",
    "\n",
    "import boto\n",
    "from boto.s3.key import Key\n",
    "\n",
    "s3 = boto.connect_s3()\n",
    "b = s3.get_bucket('dmp-log-analysis')\n",
    "\n",
    "[b.delete_key(k) for k in keys]    "
   ]
  },
  {
   "cell_type": "code",
   "execution_count": 72,
   "metadata": {
    "collapsed": false
   },
   "outputs": [
    {
     "name": "stdout",
     "output_type": "stream",
     "text": [
      "CPU times: user 8 ms, sys: 0 ns, total: 8 ms\n",
      "Wall time: 943 ms\n"
     ]
    }
   ],
   "source": [
    "%%time \n",
    "\n",
    "for k in keys:\n",
    "\n",
    "    f1 = Key(b,k)\n",
    "    f1.set_contents_from_filename(\n",
    "        'MAgE_20150331_023936.log'\n",
    "    );"
   ]
  },
  {
   "cell_type": "code",
   "execution_count": null,
   "metadata": {
    "collapsed": true
   },
   "outputs": [],
   "source": []
  }
 ],
 "metadata": {
  "kernelspec": {
   "display_name": "Python 3",
   "language": "python",
   "name": "python3"
  },
  "language_info": {
   "codemirror_mode": {
    "name": "ipython",
    "version": 3
   },
   "file_extension": ".py",
   "mimetype": "text/x-python",
   "name": "python",
   "nbconvert_exporter": "python",
   "pygments_lexer": "ipython3",
   "version": "3.4.0"
  }
 },
 "nbformat": 4,
 "nbformat_minor": 0
}
