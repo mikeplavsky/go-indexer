{
 "cells": [
  {
   "cell_type": "code",
   "execution_count": null,
   "metadata": {
    "collapsed": false
   },
   "outputs": [],
   "source": [
    "%%bash\n",
    "\n",
    "pip3 install boto"
   ]
  },
  {
   "cell_type": "markdown",
   "metadata": {},
   "source": [
    "GIVEN:\n",
    "\n",
    "Files uploaded to S3"
   ]
  },
  {
   "cell_type": "code",
   "execution_count": 60,
   "metadata": {
    "collapsed": false
   },
   "outputs": [
    {
     "name": "stdout",
     "output_type": "stream",
     "text": [
      "CPU times: user 12 ms, sys: 0 ns, total: 12 ms\n",
      "Wall time: 310 ms\n"
     ]
    }
   ],
   "source": [
    "%%time \n",
    "\n",
    "keys = [\n",
    "    \"CustomerA/MachineB/Agent%s/MAgE_20150331_023936.zip\" % i \n",
    "    for i in range(0,10)\n",
    "]\n",
    "\n",
    "import boto\n",
    "from boto.s3.key import Key\n",
    "\n",
    "s3 = boto.connect_s3()\n",
    "b = s3.get_bucket('dmp-log-analysis')\n",
    "\n",
    "[b.delete_key(k) for k in keys]    "
   ]
  },
  {
   "cell_type": "code",
   "execution_count": 64,
   "metadata": {
    "collapsed": false
   },
   "outputs": [
    {
     "name": "stdout",
     "output_type": "stream",
     "text": [
      "CPU times: user 12 ms, sys: 0 ns, total: 12 ms\n",
      "Wall time: 795 ms\n"
     ]
    }
   ],
   "source": [
    "%%time \n",
    "\n",
    "for k in keys:\n",
    "\n",
    "    f1 = Key(b,k)\n",
    "    f1.set_contents_from_filename(\n",
    "        'MAgE_20150331_023936.log'\n",
    "    );"
   ]
  },
  {
   "cell_type": "code",
   "execution_count": null,
   "metadata": {
    "collapsed": true
   },
   "outputs": [],
   "source": []
  }
 ],
 "metadata": {
  "kernelspec": {
   "display_name": "Python 3",
   "language": "python",
   "name": "python3"
  },
  "language_info": {
   "codemirror_mode": {
    "name": "ipython",
    "version": 3
   },
   "file_extension": ".py",
   "mimetype": "text/x-python",
   "name": "python",
   "nbconvert_exporter": "python",
   "pygments_lexer": "ipython3",
   "version": "3.4.0"
  }
 },
 "nbformat": 4,
 "nbformat_minor": 0
}
