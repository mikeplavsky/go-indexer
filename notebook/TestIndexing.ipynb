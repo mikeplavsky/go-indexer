{
 "cells": [
  {
   "cell_type": "code",
   "execution_count": null,
   "metadata": {
    "collapsed": false
   },
   "outputs": [],
   "source": [
    "%%bash\n",
    "\n",
    "pip3 install boto"
   ]
  },
  {
   "cell_type": "code",
   "execution_count": 8,
   "metadata": {
    "collapsed": false
   },
   "outputs": [],
   "source": [
    "import boto\n",
    "\n",
    "s3 = boto.connect_s3()\n",
    "b = s3.get_bucket('dmp-log-analysis')\n",
    "\n",
    "from boto.s3.key import Key\n",
    "\n",
    "f1 = Key(b)\n",
    "\n",
    "f1.key = \"CustomerA/MachineB/AgentC/MAgE_20150331_023936.zip\"\n",
    "f1.set_contents_from_filename('MAgE_20150331_023936.log');"
   ]
  },
  {
   "cell_type": "code",
   "execution_count": null,
   "metadata": {
    "collapsed": true
   },
   "outputs": [],
   "source": []
  }
 ],
 "metadata": {
  "kernelspec": {
   "display_name": "Python 3",
   "language": "python",
   "name": "python3"
  },
  "language_info": {
   "codemirror_mode": {
    "name": "ipython",
    "version": 3
   },
   "file_extension": ".py",
   "mimetype": "text/x-python",
   "name": "python",
   "nbconvert_exporter": "python",
   "pygments_lexer": "ipython3",
   "version": "3.4.0"
  }
 },
 "nbformat": 4,
 "nbformat_minor": 0
}
